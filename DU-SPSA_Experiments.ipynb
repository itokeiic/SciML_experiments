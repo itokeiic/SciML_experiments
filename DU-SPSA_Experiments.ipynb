{
 "cells": [
  {
   "cell_type": "markdown",
   "id": "e26e98a5-6521-496f-bebd-8a51995da29f",
   "metadata": {},
   "source": [
    "## Deep Unfolding applied to SPSA"
   ]
  },
  {
   "cell_type": "code",
   "execution_count": 1,
   "id": "cf0e2060-dd1a-46fd-81de-6662892fe01e",
   "metadata": {},
   "outputs": [],
   "source": [
    "using LinearAlgebra\n",
    "using Plots\n",
    "gr()\n",
    "using Random\n",
    "Random.seed!(1)\n",
    "using Flux\n",
    "using Zygote"
   ]
  },
  {
   "cell_type": "code",
   "execution_count": 2,
   "id": "07904e9e-45fd-425b-bbb4-0046a18a9f00",
   "metadata": {
    "tags": []
   },
   "outputs": [
    {
     "data": {
      "text/plain": [
       "rosen (generic function with 3 methods)"
      ]
     },
     "execution_count": 2,
     "metadata": {},
     "output_type": "execute_result"
    }
   ],
   "source": [
    "function func(x)\n",
    "    return x[1]^2 + x[2]^2\n",
    "end\n",
    "# Define a simple test function (e.g., Rosenbrock function)\n",
    "function rosen(x, a=1, b=100)\n",
    "    return (a - x[1])^2 + b * (x[2] - x[1]^2)^2\n",
    "end"
   ]
  },
  {
   "cell_type": "code",
   "execution_count": 16,
   "id": "80dd7ea2-e0cc-4092-b968-e76441882e33",
   "metadata": {
    "tags": []
   },
   "outputs": [
    {
     "data": {
      "text/plain": [
       "spsa (generic function with 1 method)"
      ]
     },
     "execution_count": 16,
     "metadata": {},
     "output_type": "execute_result"
    }
   ],
   "source": [
    "function spsa(x0, func; bounds=nothing, alpha=0.602, gamma=0.101, deltax_0=0.1, a=nothing, a_min=1.0e-6, c=1.0e-6, stepredf=0.5, gtol=1.0e-5, graditer=1, memsize=100, IniNfeval=0, maxiter=5000, adaptive_step=true, relaxation=true, dynamic_system=false, args...)\n",
    "    redcounter = 0\n",
    "    if !dynamic_system\n",
    "        Npar = length(x0)\n",
    "    else\n",
    "        Npar = length(x0) - 1\n",
    "    end\n",
    "\n",
    "    function g_sa(x, func, ck, niter, args...)\n",
    "        p = length(x)\n",
    "        gsum = zeros(p)\n",
    "        yp = 0.0\n",
    "        ym = 0.0\n",
    "        xp = copy(x)\n",
    "        xm = copy(x)\n",
    "        delta = zeros(p)\n",
    "\n",
    "        if niter > 0\n",
    "            buf=Zygote.Buffer(delta, p, niter)\n",
    "            for m in 1:niter\n",
    "                delta = 2 .* floor.(2 .* rand(p)) .- 1\n",
    "\n",
    "                xp = x + ck .* delta\n",
    "                xm = x - ck .* delta\n",
    "                if dynamic_system\n",
    "                    xp[end] = xm[end] = x[end]\n",
    "                end\n",
    "                yp = func(xp, args...)\n",
    "                ym = func(xm, args...)\n",
    "                buf[:,m] = (yp - ym) ./ (2 * ck .* delta)\n",
    "            end\n",
    "            gsum=sum(copy(buf),dims=2)\n",
    "            ghat = gsum / niter\n",
    "        else\n",
    "            ghat = zeros(p)\n",
    "        end\n",
    "        if dynamic_system\n",
    "            ghat[end] = 0\n",
    "        end\n",
    "        return ghat, yp, ym, xp, xm, delta\n",
    "    end\n",
    "\n",
    "    Xmax = Float64[]\n",
    "    Xmin = Float64[]\n",
    "    if bounds === nothing\n",
    "        bounds = [(-10.0, 10.0) for _ in 1:Npar]\n",
    "        # println(\"No bounds specified. Default:(-10,10).\")\n",
    "    end\n",
    "    if length(bounds) != Npar\n",
    "        error(\"Number of parameters Npar != length of bounds\")\n",
    "    end\n",
    "    Xmin = [bounds[m][1] for m in 1:Npar]\n",
    "    Xmax = [bounds[m][2] for m in 1:Npar]\n",
    "    Nfeval = IniNfeval\n",
    "    x0 = collect(x0)\n",
    "    # history = []\n",
    "    # historyx = []\n",
    "    p = length(x0)\n",
    "    A = Int(floor(0.1 * maxiter))\n",
    "    y0 = func(x0, args...)\n",
    "    Nfeval += 1\n",
    "    mem = fill(y0, memsize)\n",
    "    x = copy(x0)\n",
    "    a_ini = 0.0\n",
    "    # println(\"initial objective value = \", y0)\n",
    "    x_best = copy(x0); y_best = y0;\n",
    "    for k in 1:maxiter\n",
    "        if dynamic_system\n",
    "            x[end] = k\n",
    "        end\n",
    "        ck = c / (k + 1)^gamma\n",
    "        ghat, yp, ym, xp, xm, delta = g_sa(x, func, ck, graditer, args...)\n",
    "        Nfeval += graditer * 2\n",
    "        if k == 1\n",
    "            if a === nothing\n",
    "                a = deltax_0 * (A + 1)^alpha / minimum(abs.(ghat[1:Npar]))\n",
    "            end\n",
    "            a_ini = a\n",
    "            # println(\"ghat0 = \", ghat[:])\n",
    "        end\n",
    "        ak = a / (k + 1 + A)^alpha\n",
    "        # println(\"k: $k, ym = $ym, yp = $yp, a = $a\")\n",
    "        xold = copy(x)\n",
    "        x = x - ak .* ghat\n",
    "        buf =Zygote.Buffer(x)\n",
    "        for m in 1:Npar\n",
    "            if x[m] < Xmin[m]\n",
    "                buf[m] = Xmin[m]\n",
    "            elseif x[m] > Xmax[m]\n",
    "                buf[m] = Xmax[m]\n",
    "            else\n",
    "                buf[m] = x[m]\n",
    "            end\n",
    "        end\n",
    "        x = copy(buf)\n",
    "        y = func(x, args...)\n",
    "        # push!(history, [Nfeval, y])\n",
    "        # push!(historyx, copy(x))\n",
    "        mem = vcat(mem[2:end], min(ym, yp))\n",
    "        if ym < y_best\n",
    "            x_best = xm\n",
    "            y_best = ym\n",
    "        end\n",
    "        if yp < y_best\n",
    "            x_best = xp\n",
    "            y_best = yp\n",
    "        end\n",
    "        if adaptive_step\n",
    "\n",
    "            if ((y0 - min(yp, ym)) < 0)\n",
    "                println(\"divergence detected. reinitializing.\")\n",
    "                redcounter += 1\n",
    "                x = copy(x_best)\n",
    "                buf = Zygote.Buffer(a)\n",
    "                buf = stepredf * a\n",
    "                a = copy(buf)\n",
    "                if (redcounter > Int(floor(0.05 * maxiter))) && relaxation\n",
    "                    println(\"Too many divergence. Resetting a and relaxing threshold!\")\n",
    "                    a = a_ini\n",
    "                    y0 = min(yp, ym)\n",
    "                    redcounter = 0\n",
    "                end\n",
    "            end\n",
    "        end\n",
    "    end\n",
    "    y = func(x, args...)\n",
    "    Nfeval += 1\n",
    "    println(\"achieved objective: \",y)\n",
    "    # push!(history, [Nfeval, y])\n",
    "    # push!(historyx, copy(x))\n",
    "    # println(\"number of function evaluation: \", Nfeval)\n",
    "    # return x, y, history, historyx, Nfeval\n",
    "    return y\n",
    "end"
   ]
  },
  {
   "cell_type": "code",
   "execution_count": 17,
   "id": "1e4f6fb1-4671-49dd-ad3a-6e254e933c93",
   "metadata": {},
   "outputs": [
    {
     "data": {
      "text/plain": [
       "train_spsa (generic function with 1 method)"
      ]
     },
     "execution_count": 17,
     "metadata": {},
     "output_type": "execute_result"
    }
   ],
   "source": [
    "function train_spsa(opt, eta, max_itr, train_itr) #training eta of gradient descent\n",
    "    ps = Flux.params(eta) \n",
    "    l = [] # will keep record of eta values in this list\n",
    "    for i in 1:train_itr # perform gradient descent starting from train_iter random starting points\n",
    "        push!(l,eta[1]) # like append in python\n",
    "        x0=rand(2)\n",
    "        gs = Flux.gradient(ps) do\n",
    "            spsa(x0, rosen; a=eta, maxiter=max_itr) # perform gradient descent for max_itr iterations \n",
    "        end\n",
    "        Flux.Optimise.update!(opt, ps, gs) # update ps = η train_iter times\n",
    "        #spsa(x0, func; a=nothing, maxiter=max_itr)\n",
    "    end  \n",
    "    return l\n",
    "end"
   ]
  },
  {
   "cell_type": "code",
   "execution_count": 18,
   "id": "3f1e6a09-06fd-418e-b0be-18b2b119b5e3",
   "metadata": {},
   "outputs": [
    {
     "name": "stdout",
     "output_type": "stream",
     "text": [
      "divergence detected. reinitializing.\n",
      "achieved objective: 0.01109127803417041\n"
     ]
    },
    {
     "ename": "LoadError",
     "evalue": "UndefRefError: access to undefined reference",
     "output_type": "error",
     "traceback": [
      "UndefRefError: access to undefined reference",
      "",
      "Stacktrace:",
      "  [1] getindex",
      "    @ .\\array.jl:924 [inlined]",
      "  [2] pop!(stk::Zygote.Stack{Any})",
      "    @ Zygote C:\\Users\\Keiichi\\.julia\\packages\\Zygote\\YYT6v\\src\\compiler\\emit.jl:14",
      "  [3] Pullback",
      "    @ .\\In[16]:125 [inlined]",
      "  [4] (::Zygote.Pullback{Tuple{var\"##spsa#13\", Nothing, Float64, Float64, Float64, Vector{Float64}, Float64, Float64, Float64, Float64, Int64, Int64, Int64, Int64, Bool, Bool, Bool, Base.Pairs{Symbol, Union{}, Tuple{}, NamedTuple{(), Tuple{}}}, typeof(spsa), Vector{Float64}, typeof(rosen)}, Any})(Δ::Float64)",
      "    @ Zygote C:\\Users\\Keiichi\\.julia\\packages\\Zygote\\YYT6v\\src\\compiler\\interface2.jl:0",
      "  [5] Pullback",
      "    @ .\\In[16]:1 [inlined]",
      "  [6] (::Zygote.Pullback{Tuple{var\"#spsa##kw\", NamedTuple{(:a, :maxiter), Tuple{Vector{Float64}, Int64}}, typeof(spsa), Vector{Float64}, typeof(rosen)}, Any})(Δ::Float64)",
      "    @ Zygote C:\\Users\\Keiichi\\.julia\\packages\\Zygote\\YYT6v\\src\\compiler\\interface2.jl:0",
      "  [7] Pullback",
      "    @ .\\In[17]:8 [inlined]",
      "  [8] (::Zygote.Pullback{Tuple{var\"#21#22\"{Vector{Float64}, Int64, Vector{Float64}}}, Tuple{Zygote.var\"#1999#back#204\"{typeof(identity)}, Zygote.var\"#2166#back#303\"{Zygote.var\"#back#302\"{:eta, Zygote.Context{true}, var\"#21#22\"{Vector{Float64}, Int64, Vector{Float64}}, Vector{Float64}}}, Zygote.var\"#2166#back#303\"{Zygote.var\"#back#302\"{:x0, Zygote.Context{true}, var\"#21#22\"{Vector{Float64}, Int64, Vector{Float64}}, Vector{Float64}}}, Zygote.var\"#2166#back#303\"{Zygote.var\"#back#302\"{:max_itr, Zygote.Context{true}, var\"#21#22\"{Vector{Float64}, Int64, Vector{Float64}}, Int64}}, Zygote.Pullback{Tuple{Type{NamedTuple{(:a, :maxiter)}}, Tuple{Vector{Float64}, Int64}}, Tuple{Zygote.Pullback{Tuple{Type{NamedTuple{(:a, :maxiter), Tuple{Vector{Float64}, Int64}}}, Tuple{Vector{Float64}, Int64}}, Tuple{Zygote.var\"#2203#back#315\"{Zygote.Jnew{NamedTuple{(:a, :maxiter), Tuple{Vector{Float64}, Int64}}, Nothing, true}}}}}}, Zygote.Pullback{Tuple{var\"#spsa##kw\", NamedTuple{(:a, :maxiter), Tuple{Vector{Float64}, Int64}}, typeof(spsa), Vector{Float64}, typeof(rosen)}, Any}}})(Δ::Float64)",
      "    @ Zygote C:\\Users\\Keiichi\\.julia\\packages\\Zygote\\YYT6v\\src\\compiler\\interface2.jl:0",
      "  [9] (::Zygote.var\"#122#123\"{Params{Zygote.Buffer{Any, Vector{Any}}}, Zygote.Pullback{Tuple{var\"#21#22\"{Vector{Float64}, Int64, Vector{Float64}}}, Tuple{Zygote.var\"#1999#back#204\"{typeof(identity)}, Zygote.var\"#2166#back#303\"{Zygote.var\"#back#302\"{:eta, Zygote.Context{true}, var\"#21#22\"{Vector{Float64}, Int64, Vector{Float64}}, Vector{Float64}}}, Zygote.var\"#2166#back#303\"{Zygote.var\"#back#302\"{:x0, Zygote.Context{true}, var\"#21#22\"{Vector{Float64}, Int64, Vector{Float64}}, Vector{Float64}}}, Zygote.var\"#2166#back#303\"{Zygote.var\"#back#302\"{:max_itr, Zygote.Context{true}, var\"#21#22\"{Vector{Float64}, Int64, Vector{Float64}}, Int64}}, Zygote.Pullback{Tuple{Type{NamedTuple{(:a, :maxiter)}}, Tuple{Vector{Float64}, Int64}}, Tuple{Zygote.Pullback{Tuple{Type{NamedTuple{(:a, :maxiter), Tuple{Vector{Float64}, Int64}}}, Tuple{Vector{Float64}, Int64}}, Tuple{Zygote.var\"#2203#back#315\"{Zygote.Jnew{NamedTuple{(:a, :maxiter), Tuple{Vector{Float64}, Int64}}, Nothing, true}}}}}}, Zygote.Pullback{Tuple{var\"#spsa##kw\", NamedTuple{(:a, :maxiter), Tuple{Vector{Float64}, Int64}}, typeof(spsa), Vector{Float64}, typeof(rosen)}, Any}}}, Zygote.Context{true}})(Δ::Float64)",
      "    @ Zygote C:\\Users\\Keiichi\\.julia\\packages\\Zygote\\YYT6v\\src\\compiler\\interface.jl:419",
      " [10] gradient(f::Function, args::Params{Zygote.Buffer{Any, Vector{Any}}})",
      "    @ Zygote C:\\Users\\Keiichi\\.julia\\packages\\Zygote\\YYT6v\\src\\compiler\\interface.jl:97",
      " [11] train_spsa(opt::Adam, eta::Vector{Float64}, max_itr::Int64, train_itr::Int64)",
      "    @ Main .\\In[17]:7",
      " [12] top-level scope",
      "    @ In[18]:5"
     ]
    }
   ],
   "source": [
    "opt = Flux.ADAM(0.00001) \n",
    "eta = [0.1]\n",
    "max_itr = 5000 # number of gradient descent iterations\n",
    "train_itr = 100 # number of different starting point for gradient descent to update η\n",
    "l = train_spsa(opt, eta, max_itr, train_itr)\n",
    "println(\"a: \",l)\n",
    "plot(1:train_itr,l, xlabel=\"Iteration\", ylabel=\"a\",legend=false, lw=2,color=:black)"
   ]
  },
  {
   "cell_type": "code",
   "execution_count": null,
   "id": "edef4195-e33d-43dc-a1fb-facb435e6d9a",
   "metadata": {},
   "outputs": [],
   "source": []
  }
 ],
 "metadata": {
  "kernelspec": {
   "display_name": "Julia 1.8.2",
   "language": "julia",
   "name": "julia-1.8"
  },
  "language_info": {
   "file_extension": ".jl",
   "mimetype": "application/julia",
   "name": "julia",
   "version": "1.8.2"
  }
 },
 "nbformat": 4,
 "nbformat_minor": 5
}
